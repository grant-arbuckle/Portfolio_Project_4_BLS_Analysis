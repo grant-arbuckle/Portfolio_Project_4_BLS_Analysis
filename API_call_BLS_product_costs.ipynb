{
 "cells": [
  {
   "cell_type": "code",
   "execution_count": 1,
   "id": "84789ff5",
   "metadata": {},
   "outputs": [],
   "source": [
    "import requests\n",
    "import json\n",
    "import pandas as pd"
   ]
  },
  {
   "cell_type": "code",
   "execution_count": 2,
   "id": "8822d3cf",
   "metadata": {},
   "outputs": [],
   "source": [
    "headers = {'Content-type': 'application/json'}\n",
    "data = json.dumps({\"seriesid\": [\n",
    "    'APU0000706111', 'APU0000704111', 'APU0000711211', 'APU0000702111', 'APU0000717311', 'APU0000708111', 'APU0000701111'\n",
    "    , 'APU0000709112', 'APU0000711311', 'APU0000701312', 'APU0000712311', 'APU000072610', 'APU000072511'\n",
    "    , 'APU00007471A', 'APU000074714'\n",
    "    ]\n",
    "        ,\"startyear\":\"2012\", \"endyear\":\"2022\", \"registrationkey\": \"6a4fc3836e344229b9fe9dc5925c842e\",\n",
    "       \"catalog\": \"true\", \"annualaverage\": \"true\", \"calculations\": \"true\"})\n",
    "p = requests.post('https://api.bls.gov/publicAPI/v2/timeseries/data/', data=data, headers=headers)\n",
    "json_data = json.loads(p.text)"
   ]
  },
  {
   "cell_type": "code",
   "execution_count": 3,
   "id": "6fd8ffbf",
   "metadata": {
    "scrolled": true
   },
   "outputs": [
    {
     "data": {
      "text/plain": [
       "{'year': '2022',\n",
       " 'period': 'M11',\n",
       " 'periodName': 'November',\n",
       " 'latest': 'true',\n",
       " 'value': '1.843',\n",
       " 'footnotes': [{}],\n",
       " 'calculations': {'net_changes': {'1': '-0.020',\n",
       "   '3': '-0.036',\n",
       "   '6': '0.019',\n",
       "   '12': '0.260'},\n",
       "  'pct_changes': {'1': '-1.1', '3': '-1.9', '6': '1.0', '12': '16.4'}}}"
      ]
     },
     "execution_count": 3,
     "metadata": {},
     "output_type": "execute_result"
    }
   ],
   "source": [
    "json_data['Results']['series'][0]['data'][0]"
   ]
  },
  {
   "cell_type": "code",
   "execution_count": 4,
   "id": "53cf4ede",
   "metadata": {},
   "outputs": [
    {
     "data": {
      "text/plain": [
       "{'series_title': 'Chicken, fresh, whole, per lb. (453.6 gm) in U.S. city average, average price, not seasonally adjusted',\n",
       " 'series_id': 'APU0000706111',\n",
       " 'survey_name': 'CPI Average Price Data, U.S. city average (AP)',\n",
       " 'survey_abbreviation': 'AP',\n",
       " 'measure_data_type': 'Chicken, fresh, whole, per lb. (453.6 gm)',\n",
       " 'area': 'U.S. city average',\n",
       " 'item': 'Chicken, fresh, whole, per lb. (453.6 gm)'}"
      ]
     },
     "execution_count": 4,
     "metadata": {},
     "output_type": "execute_result"
    }
   ],
   "source": [
    "json_data['Results']['series'][0]['catalog']"
   ]
  },
  {
   "cell_type": "markdown",
   "id": "2cec4cd7",
   "metadata": {},
   "source": [
    "## I determined the key errors to be happening because of some missing keys in the json data for some of the \"net_changes\"; I removed these from my final python script and opted to perform these calcs in PowerQuery."
   ]
  },
  {
   "cell_type": "code",
   "execution_count": 12,
   "id": "d0fe9fd8",
   "metadata": {},
   "outputs": [
    {
     "name": "stdout",
     "output_type": "stream",
     "text": [
      "APU0000706111\n",
      "-0.020\n",
      "APU0000706111\n",
      "-0.028\n",
      "APU0000706111\n",
      "0.012\n",
      "APU0000706111\n",
      "-0.001\n",
      "APU0000706111\n",
      "0.054\n",
      "APU0000706111\n",
      "0.002\n",
      "APU0000706111\n",
      "0.030\n",
      "APU0000706111\n",
      "0.070\n",
      "APU0000706111\n",
      "0.092\n",
      "APU0000706111\n",
      "0.010\n",
      "APU0000706111\n",
      "0.016\n",
      "APU0000706111\n",
      "0.023\n",
      "APU0000706111\n",
      "0.060\n",
      "APU0000706111\n",
      "0.019\n",
      "APU0000706111\n",
      "0.032\n",
      "APU0000706111\n",
      "0.037\n",
      "APU0000706111\n",
      "-0.039\n",
      "APU0000706111\n",
      "-0.012\n",
      "APU0000706111\n",
      "-0.029\n",
      "APU0000706111\n",
      "-0.028\n",
      "APU0000706111\n",
      "-0.040\n",
      "APU0000706111\n",
      "-0.012\n",
      "APU0000706111\n",
      "-0.026\n",
      "APU0000706111\n",
      "-0.018\n",
      "APU0000706111\n",
      "0.059\n",
      "APU0000706111\n",
      "0.038\n",
      "APU0000706111\n",
      "-0.067\n",
      "APU0000706111\n",
      "-0.103\n",
      "APU0000706111\n",
      "-0.035\n",
      "APU0000706111\n"
     ]
    },
    {
     "ename": "KeyError",
     "evalue": "'1'",
     "output_type": "error",
     "traceback": [
      "\u001b[1;31m---------------------------------------------------------------------------\u001b[0m",
      "\u001b[1;31mKeyError\u001b[0m                                  Traceback (most recent call last)",
      "\u001b[1;32m~\\AppData\\Local\\Temp\\ipykernel_7412\\1261063879.py\u001b[0m in \u001b[0;36m<module>\u001b[1;34m\u001b[0m\n\u001b[0;32m      8\u001b[0m     \u001b[1;32mfor\u001b[0m \u001b[0mb\u001b[0m \u001b[1;32min\u001b[0m \u001b[0ma\u001b[0m\u001b[1;33m[\u001b[0m\u001b[1;34m'data'\u001b[0m\u001b[1;33m]\u001b[0m\u001b[1;33m:\u001b[0m\u001b[1;33m\u001b[0m\u001b[1;33m\u001b[0m\u001b[0m\n\u001b[0;32m      9\u001b[0m         \u001b[0mprint\u001b[0m\u001b[1;33m(\u001b[0m\u001b[0ma\u001b[0m\u001b[1;33m[\u001b[0m\u001b[1;34m'catalog'\u001b[0m\u001b[1;33m]\u001b[0m\u001b[1;33m[\u001b[0m\u001b[1;34m'series_id'\u001b[0m\u001b[1;33m]\u001b[0m\u001b[1;33m)\u001b[0m\u001b[1;33m\u001b[0m\u001b[1;33m\u001b[0m\u001b[0m\n\u001b[1;32m---> 10\u001b[1;33m         \u001b[0mprint\u001b[0m\u001b[1;33m(\u001b[0m\u001b[0mb\u001b[0m\u001b[1;33m[\u001b[0m\u001b[1;34m'calculations'\u001b[0m\u001b[1;33m]\u001b[0m\u001b[1;33m[\u001b[0m\u001b[1;34m'net_changes'\u001b[0m\u001b[1;33m]\u001b[0m\u001b[1;33m[\u001b[0m\u001b[1;34m'1'\u001b[0m\u001b[1;33m]\u001b[0m\u001b[1;33m)\u001b[0m\u001b[1;33m\u001b[0m\u001b[1;33m\u001b[0m\u001b[0m\n\u001b[0m",
      "\u001b[1;31mKeyError\u001b[0m: '1'"
     ]
    }
   ],
   "source": [
    "for a in json_data['Results']['series']:\n",
    "    series_title = a['catalog']['series_title']\n",
    "    series_id = a['catalog']['series_id']\n",
    "    survey_name = a['catalog']['survey_name']\n",
    "    survey_abbreviation = a['catalog']['survey_abbreviation']\n",
    "    measure_data_type = a['catalog']['measure_data_type']\n",
    "    area = a['catalog']['area']\n",
    "    for b in a['data']:\n",
    "        print(a['catalog']['series_id'])\n",
    "        print(b['calculations']['net_changes']['1'])"
   ]
  },
  {
   "cell_type": "markdown",
   "id": "4bb1203d",
   "metadata": {},
   "source": [
    "## Identifying specific arrays that are missing the 4 keys I expected (expecting 1, 3, 6, and 12):"
   ]
  },
  {
   "cell_type": "code",
   "execution_count": 15,
   "id": "1710f83d",
   "metadata": {},
   "outputs": [
    {
     "name": "stdout",
     "output_type": "stream",
     "text": [
      "{'1': '-0.029', '3': '-0.097', '6': '-0.153'}\n",
      "{'1': '0.059', '3': '0.030', '12': '0.209'}\n",
      "{'1': '-0.103', '6': '0.247', '12': '0.095'}\n",
      "{'3': '0.347', '6': '0.297', '12': '0.157'}\n"
     ]
    }
   ],
   "source": [
    "for i in json_data['Results']['series'][0]['data']:\n",
    "    if len(i['calculations']['net_changes']) != 4:\n",
    "        print(i['calculations']['net_changes'])"
   ]
  },
  {
   "cell_type": "code",
   "execution_count": 17,
   "id": "f9513c37",
   "metadata": {},
   "outputs": [],
   "source": [
    "df = pd.DataFrame(columns=[\n",
    "    'series_title', 'series_id', 'survey_name', 'survey_abbreviation', 'measure_data_type', 'area'\n",
    "    , 'year', 'period', 'period_name', 'value'\n",
    "                          ])"
   ]
  },
  {
   "cell_type": "markdown",
   "id": "534ec158",
   "metadata": {},
   "source": [
    "## Determined that percent change calculations will be done in PowerBI since they are not always provided in the data, so those datapoints are commented out below:"
   ]
  },
  {
   "cell_type": "code",
   "execution_count": 20,
   "id": "6cb5b891",
   "metadata": {},
   "outputs": [],
   "source": [
    "for a in json_data['Results']['series']:\n",
    "    series_title = a['catalog']['series_title']\n",
    "    series_id = a['catalog']['series_id']\n",
    "    survey_name = a['catalog']['survey_name']\n",
    "    survey_abbreviation = a['catalog']['survey_abbreviation']\n",
    "    measure_data_type = str(a['catalog']['measure_data_type']).replace(\"Fuel \", \"\")\n",
    "    area = a['catalog']['area']\n",
    "    for b in a['data']:\n",
    "        year = b['year']\n",
    "        period = b['period']\n",
    "        period_name = b['periodName']\n",
    "        value = b['value']\n",
    "        #prev_per_net_chg = b['calculations']['net_changes']['1']\n",
    "        #three_per_net_chg = b['calculations']['net_changes']['3']\n",
    "        #six_per_net_chg = b['calculations']['net_changes']['6']\n",
    "        #twelve_per_net_chg = b['calculations']['net_changes']['12']\n",
    "        #prev_per_pct_chg = b['calculations']['pct_changes']['1']\n",
    "        #three_per_pct_chg = b['calculations']['pct_changes']['3']\n",
    "        #six_per_pct_chg = b['calculations']['pct_changes']['6']\n",
    "        #twelve_per_pct_chg = b['calculations']['pct_changes']['12']\n",
    "\n",
    "        #save data in dataframe\n",
    "        df = pd.concat([df, pd.DataFrame.from_records([{\n",
    "            'series_title': series_title\n",
    "            , 'series_id': series_id\n",
    "            , 'survey_name': survey_name\n",
    "            , 'survey_abbreviation': survey_abbreviation\n",
    "            , 'measure_data_type': measure_data_type\n",
    "            , 'area': area\n",
    "            , 'year': year\n",
    "            , 'period': period\n",
    "            , 'period_name': period_name\n",
    "            , 'value': value\n",
    "            #, 'prev_per_net_chg': prev_per_net_chg\n",
    "            #, 'three_per_net_chg': three_per_net_chg\n",
    "            #, 'six_per_net_chg': six_per_net_chg\n",
    "            #, 'twelve_per_net_chg': twelve_per_net_chg\n",
    "            #, 'prev_per_pct_chg': prev_per_pct_chg\n",
    "            #, 'three_per_pct_chg': three_per_pct_chg\n",
    "            #, 'six_per_pct_chg': six_per_pct_chg\n",
    "            #, 'twelve_per_pct_chg': twelve_per_pct_chg\n",
    "        }])], ignore_index=True)"
   ]
  },
  {
   "cell_type": "code",
   "execution_count": 19,
   "id": "b01ccb9e",
   "metadata": {},
   "outputs": [
    {
     "name": "stdout",
     "output_type": "stream",
     "text": [
      "                                           series_title      series_id  \\\n",
      "0     Chicken, fresh, whole, per lb. (453.6 gm) in U...  APU0000706111   \n",
      "1     Chicken, fresh, whole, per lb. (453.6 gm) in U...  APU0000706111   \n",
      "2     Chicken, fresh, whole, per lb. (453.6 gm) in U...  APU0000706111   \n",
      "3     Chicken, fresh, whole, per lb. (453.6 gm) in U...  APU0000706111   \n",
      "4     Chicken, fresh, whole, per lb. (453.6 gm) in U...  APU0000706111   \n",
      "...                                                 ...            ...   \n",
      "1929  Gasoline, unleaded regular, per gallon/3.785 l...   APU000074714   \n",
      "1930  Gasoline, unleaded regular, per gallon/3.785 l...   APU000074714   \n",
      "1931  Gasoline, unleaded regular, per gallon/3.785 l...   APU000074714   \n",
      "1932  Gasoline, unleaded regular, per gallon/3.785 l...   APU000074714   \n",
      "1933  Gasoline, unleaded regular, per gallon/3.785 l...   APU000074714   \n",
      "\n",
      "                                         survey_name survey_abbreviation  \\\n",
      "0     CPI Average Price Data, U.S. city average (AP)                  AP   \n",
      "1     CPI Average Price Data, U.S. city average (AP)                  AP   \n",
      "2     CPI Average Price Data, U.S. city average (AP)                  AP   \n",
      "3     CPI Average Price Data, U.S. city average (AP)                  AP   \n",
      "4     CPI Average Price Data, U.S. city average (AP)                  AP   \n",
      "...                                              ...                 ...   \n",
      "1929  CPI Average Price Data, U.S. city average (AP)                  AP   \n",
      "1930  CPI Average Price Data, U.S. city average (AP)                  AP   \n",
      "1931  CPI Average Price Data, U.S. city average (AP)                  AP   \n",
      "1932  CPI Average Price Data, U.S. city average (AP)                  AP   \n",
      "1933  CPI Average Price Data, U.S. city average (AP)                  AP   \n",
      "\n",
      "                                      measure_data_type               area  \\\n",
      "0             Chicken, fresh, whole, per lb. (453.6 gm)  U.S. city average   \n",
      "1             Chicken, fresh, whole, per lb. (453.6 gm)  U.S. city average   \n",
      "2             Chicken, fresh, whole, per lb. (453.6 gm)  U.S. city average   \n",
      "3             Chicken, fresh, whole, per lb. (453.6 gm)  U.S. city average   \n",
      "4             Chicken, fresh, whole, per lb. (453.6 gm)  U.S. city average   \n",
      "...                                                 ...                ...   \n",
      "1929  Gasoline, unleaded regular, per gallon/3.785 l...  U.S. city average   \n",
      "1930  Gasoline, unleaded regular, per gallon/3.785 l...  U.S. city average   \n",
      "1931  Gasoline, unleaded regular, per gallon/3.785 l...  U.S. city average   \n",
      "1932  Gasoline, unleaded regular, per gallon/3.785 l...  U.S. city average   \n",
      "1933  Gasoline, unleaded regular, per gallon/3.785 l...  U.S. city average   \n",
      "\n",
      "      year period period_name  value  \n",
      "0     2022    M11    November  1.843  \n",
      "1     2022    M10     October  1.863  \n",
      "2     2022    M09   September  1.891  \n",
      "3     2022    M08      August  1.879  \n",
      "4     2022    M07        July  1.880  \n",
      "...    ...    ...         ...    ...  \n",
      "1929  2012    M05         May  3.792  \n",
      "1930  2012    M04       April  3.927  \n",
      "1931  2012    M03       March  3.868  \n",
      "1932  2012    M02    February  3.572  \n",
      "1933  2012    M01     January  3.399  \n",
      "\n",
      "[1934 rows x 10 columns]\n"
     ]
    }
   ],
   "source": [
    "print(df)"
   ]
  }
 ],
 "metadata": {
  "kernelspec": {
   "display_name": "Python 3 (ipykernel)",
   "language": "python",
   "name": "python3"
  },
  "language_info": {
   "codemirror_mode": {
    "name": "ipython",
    "version": 3
   },
   "file_extension": ".py",
   "mimetype": "text/x-python",
   "name": "python",
   "nbconvert_exporter": "python",
   "pygments_lexer": "ipython3",
   "version": "3.9.13"
  }
 },
 "nbformat": 4,
 "nbformat_minor": 5
}
