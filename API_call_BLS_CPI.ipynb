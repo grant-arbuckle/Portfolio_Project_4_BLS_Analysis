{
 "cells": [
  {
   "cell_type": "code",
   "execution_count": 1,
   "id": "51ffdf9b",
   "metadata": {},
   "outputs": [],
   "source": [
    "import requests\n",
    "import json\n",
    "import pandas as pd"
   ]
  },
  {
   "cell_type": "code",
   "execution_count": 2,
   "id": "beb1d33c",
   "metadata": {},
   "outputs": [],
   "source": [
    "headers = {'Content-type': 'application/json'}\n",
    "data = json.dumps({\"seriesid\": [\n",
    "    'CUUR0000SA0'\n",
    "    ]\n",
    "        ,\"startyear\":\"2012\", \"endyear\":\"2022\", \"registrationkey\": \"6a4fc3836e344229b9fe9dc5925c842e\",\n",
    "       \"catalog\": \"true\",})\n",
    "p = requests.post('https://api.bls.gov/publicAPI/v2/timeseries/data/', data=data, headers=headers)\n",
    "json_data = json.loads(p.text)"
   ]
  },
  {
   "cell_type": "markdown",
   "id": "7da243b4",
   "metadata": {},
   "source": [
    "## Catalog data - Info that pertains to the Series ID"
   ]
  },
  {
   "cell_type": "code",
   "execution_count": 3,
   "id": "aa6ea263",
   "metadata": {
    "scrolled": false
   },
   "outputs": [
    {
     "data": {
      "text/plain": [
       "{'series_title': 'All items in U.S. city average, all urban consumers, not seasonally adjusted',\n",
       " 'series_id': 'CUUR0000SA0',\n",
       " 'seasonality': 'Not Seasonally Adjusted',\n",
       " 'survey_name': 'CPI for All Urban Consumers (CPI-U)',\n",
       " 'survey_abbreviation': 'CU',\n",
       " 'measure_data_type': 'All items',\n",
       " 'area': 'U.S. city average',\n",
       " 'item': 'All items'}"
      ]
     },
     "execution_count": 3,
     "metadata": {},
     "output_type": "execute_result"
    }
   ],
   "source": [
    "json_data['Results']['series'][0]['catalog']"
   ]
  },
  {
   "cell_type": "markdown",
   "id": "f83d9ff4",
   "metadata": {},
   "source": [
    "## Data Points - Specific data points within the series id"
   ]
  },
  {
   "cell_type": "code",
   "execution_count": 4,
   "id": "65af898e",
   "metadata": {},
   "outputs": [
    {
     "data": {
      "text/plain": [
       "{'year': '2022',\n",
       " 'period': 'M11',\n",
       " 'periodName': 'November',\n",
       " 'latest': 'true',\n",
       " 'value': '297.711',\n",
       " 'footnotes': [{}]}"
      ]
     },
     "execution_count": 4,
     "metadata": {},
     "output_type": "execute_result"
    }
   ],
   "source": [
    "json_data['Results']['series'][0]['data'][0]"
   ]
  },
  {
   "cell_type": "code",
   "execution_count": 5,
   "id": "26d17185",
   "metadata": {},
   "outputs": [
    {
     "data": {
      "text/plain": [
       "{'series_title': 'All items in U.S. city average, all urban consumers, not seasonally adjusted',\n",
       " 'series_id': 'CUUR0000SA0',\n",
       " 'seasonality': 'Not Seasonally Adjusted',\n",
       " 'survey_name': 'CPI for All Urban Consumers (CPI-U)',\n",
       " 'survey_abbreviation': 'CU',\n",
       " 'measure_data_type': 'All items',\n",
       " 'area': 'U.S. city average',\n",
       " 'item': 'All items'}"
      ]
     },
     "execution_count": 5,
     "metadata": {},
     "output_type": "execute_result"
    }
   ],
   "source": [
    "json_data['Results']['series'][0]['catalog']"
   ]
  },
  {
   "cell_type": "code",
   "execution_count": 6,
   "id": "3ce7b3dd",
   "metadata": {},
   "outputs": [],
   "source": [
    "df = pd.DataFrame(columns=[\n",
    "    'series_title', 'series_id', 'seasonality', 'survey_name', 'survey_abbreviation', 'measure_data_type', 'area'\n",
    "    , 'year', 'period', 'period_name', 'value'\n",
    "                          ])"
   ]
  },
  {
   "cell_type": "markdown",
   "id": "513599dc",
   "metadata": {},
   "source": [
    "# KeyErrors\n",
    "### I received a KeyError on the 'calculations' key and some other keys, which after some digging I figured out was the result of differences in fields and keys between the different series. Because of this, I decided to split up my API calls by category (each category has generally the same key fields for the fields I need)."
   ]
  },
  {
   "cell_type": "code",
   "execution_count": 7,
   "id": "f382ec0e",
   "metadata": {},
   "outputs": [],
   "source": [
    "for series in json_data['Results']['series']:\n",
    "    series_title = series['catalog']['series_title']\n",
    "    series_id = series['catalog']['series_id']\n",
    "    seasonality = series['catalog']['seasonality']\n",
    "    survey_name = series['catalog']['survey_name']\n",
    "    survey_abbreviation = series['catalog']['survey_abbreviation']\n",
    "    measure_data_type = series['catalog']['measure_data_type']\n",
    "    area = series['catalog']['area']\n",
    "    for data in series['data']:\n",
    "        year = data['year']\n",
    "        period = data['period']\n",
    "        period_name = data['periodName']\n",
    "        value = data['value']\n",
    "        \n",
    "        #save data in dataframe\n",
    "        df = pd.concat([df, pd.DataFrame.from_records([{\n",
    "            'series_title': series_title\n",
    "            , 'series_id': series_id\n",
    "            , 'seasonality': seasonality\n",
    "            , 'survey_name': survey_name\n",
    "            , 'survey_abbreviation': survey_abbreviation\n",
    "            , 'measure_data_type': measure_data_type\n",
    "            , 'area': area\n",
    "            , 'year': year\n",
    "            , 'period': period\n",
    "            , 'period_name': period_name\n",
    "            , 'value': value\n",
    "        }])], ignore_index=True)"
   ]
  },
  {
   "cell_type": "code",
   "execution_count": 8,
   "id": "1cfcc1aa",
   "metadata": {},
   "outputs": [
    {
     "name": "stdout",
     "output_type": "stream",
     "text": [
      "{'series_title': 'All items in U.S. city average, all urban consumers, not seasonally adjusted', 'series_id': 'CUUR0000SA0', 'seasonality': 'Not Seasonally Adjusted', 'survey_name': 'CPI for All Urban Consumers (CPI-U)', 'survey_abbreviation': 'CU', 'measure_data_type': 'All items', 'area': 'U.S. city average', 'item': 'All items'}\n"
     ]
    }
   ],
   "source": [
    "for series in json_data['Results']['series']:\n",
    "    print(series['catalog'])"
   ]
  },
  {
   "cell_type": "code",
   "execution_count": 9,
   "id": "b1186868",
   "metadata": {},
   "outputs": [
    {
     "name": "stdout",
     "output_type": "stream",
     "text": [
      "                                          series_title    series_id  \\\n",
      "0    All items in U.S. city average, all urban cons...  CUUR0000SA0   \n",
      "1    All items in U.S. city average, all urban cons...  CUUR0000SA0   \n",
      "2    All items in U.S. city average, all urban cons...  CUUR0000SA0   \n",
      "3    All items in U.S. city average, all urban cons...  CUUR0000SA0   \n",
      "4    All items in U.S. city average, all urban cons...  CUUR0000SA0   \n",
      "..                                                 ...          ...   \n",
      "126  All items in U.S. city average, all urban cons...  CUUR0000SA0   \n",
      "127  All items in U.S. city average, all urban cons...  CUUR0000SA0   \n",
      "128  All items in U.S. city average, all urban cons...  CUUR0000SA0   \n",
      "129  All items in U.S. city average, all urban cons...  CUUR0000SA0   \n",
      "130  All items in U.S. city average, all urban cons...  CUUR0000SA0   \n",
      "\n",
      "                 seasonality                          survey_name  \\\n",
      "0    Not Seasonally Adjusted  CPI for All Urban Consumers (CPI-U)   \n",
      "1    Not Seasonally Adjusted  CPI for All Urban Consumers (CPI-U)   \n",
      "2    Not Seasonally Adjusted  CPI for All Urban Consumers (CPI-U)   \n",
      "3    Not Seasonally Adjusted  CPI for All Urban Consumers (CPI-U)   \n",
      "4    Not Seasonally Adjusted  CPI for All Urban Consumers (CPI-U)   \n",
      "..                       ...                                  ...   \n",
      "126  Not Seasonally Adjusted  CPI for All Urban Consumers (CPI-U)   \n",
      "127  Not Seasonally Adjusted  CPI for All Urban Consumers (CPI-U)   \n",
      "128  Not Seasonally Adjusted  CPI for All Urban Consumers (CPI-U)   \n",
      "129  Not Seasonally Adjusted  CPI for All Urban Consumers (CPI-U)   \n",
      "130  Not Seasonally Adjusted  CPI for All Urban Consumers (CPI-U)   \n",
      "\n",
      "    survey_abbreviation measure_data_type               area  year period  \\\n",
      "0                    CU         All items  U.S. city average  2022    M11   \n",
      "1                    CU         All items  U.S. city average  2022    M10   \n",
      "2                    CU         All items  U.S. city average  2022    M09   \n",
      "3                    CU         All items  U.S. city average  2022    M08   \n",
      "4                    CU         All items  U.S. city average  2022    M07   \n",
      "..                  ...               ...                ...   ...    ...   \n",
      "126                  CU         All items  U.S. city average  2012    M05   \n",
      "127                  CU         All items  U.S. city average  2012    M04   \n",
      "128                  CU         All items  U.S. city average  2012    M03   \n",
      "129                  CU         All items  U.S. city average  2012    M02   \n",
      "130                  CU         All items  U.S. city average  2012    M01   \n",
      "\n",
      "    period_name    value  \n",
      "0      November  297.711  \n",
      "1       October  298.012  \n",
      "2     September  296.808  \n",
      "3        August  296.171  \n",
      "4          July  296.276  \n",
      "..          ...      ...  \n",
      "126         May  229.815  \n",
      "127       April  230.085  \n",
      "128       March  229.392  \n",
      "129    February  227.663  \n",
      "130     January  226.665  \n",
      "\n",
      "[131 rows x 11 columns]\n"
     ]
    }
   ],
   "source": [
    "print(df)"
   ]
  },
  {
   "cell_type": "code",
   "execution_count": 10,
   "id": "7bd29c45",
   "metadata": {},
   "outputs": [],
   "source": [
    "#df.to_excel(\"C:/Users/grantarbuckle/Desktop/Python Practice/BLS_Compensation_Data.xlsx\")"
   ]
  }
 ],
 "metadata": {
  "kernelspec": {
   "display_name": "Python 3 (ipykernel)",
   "language": "python",
   "name": "python3"
  },
  "language_info": {
   "codemirror_mode": {
    "name": "ipython",
    "version": 3
   },
   "file_extension": ".py",
   "mimetype": "text/x-python",
   "name": "python",
   "nbconvert_exporter": "python",
   "pygments_lexer": "ipython3",
   "version": "3.9.13"
  }
 },
 "nbformat": 4,
 "nbformat_minor": 5
}
